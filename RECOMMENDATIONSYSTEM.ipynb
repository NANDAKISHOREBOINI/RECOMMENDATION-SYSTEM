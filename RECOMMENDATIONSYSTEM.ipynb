{
 "cells": [
  {
   "cell_type": "code",
   "execution_count": 113,
   "metadata": {
    "colab": {
     "base_uri": "https://localhost:8080/",
     "height": 423
    },
    "id": "dwaEt4ChYbxW",
    "outputId": "d4807ca1-a37a-45d8-9d1d-8d31fd5e3012"
   },
   "outputs": [
    {
     "data": {
      "text/html": [
       "<div>\n",
       "<style scoped>\n",
       "    .dataframe tbody tr th:only-of-type {\n",
       "        vertical-align: middle;\n",
       "    }\n",
       "\n",
       "    .dataframe tbody tr th {\n",
       "        vertical-align: top;\n",
       "    }\n",
       "\n",
       "    .dataframe thead th {\n",
       "        text-align: right;\n",
       "    }\n",
       "</style>\n",
       "<table border=\"1\" class=\"dataframe\">\n",
       "  <thead>\n",
       "    <tr style=\"text-align: right;\">\n",
       "      <th></th>\n",
       "      <th>anime_id</th>\n",
       "      <th>name</th>\n",
       "      <th>genre</th>\n",
       "      <th>type</th>\n",
       "      <th>episodes</th>\n",
       "      <th>rating</th>\n",
       "      <th>members</th>\n",
       "    </tr>\n",
       "  </thead>\n",
       "  <tbody>\n",
       "    <tr>\n",
       "      <th>0</th>\n",
       "      <td>32281</td>\n",
       "      <td>Kimi no Na wa.</td>\n",
       "      <td>Drama, Romance, School, Supernatural</td>\n",
       "      <td>Movie</td>\n",
       "      <td>1</td>\n",
       "      <td>9.37</td>\n",
       "      <td>200630</td>\n",
       "    </tr>\n",
       "    <tr>\n",
       "      <th>1</th>\n",
       "      <td>5114</td>\n",
       "      <td>Fullmetal Alchemist: Brotherhood</td>\n",
       "      <td>Action, Adventure, Drama, Fantasy, Magic, Mili...</td>\n",
       "      <td>TV</td>\n",
       "      <td>64</td>\n",
       "      <td>9.26</td>\n",
       "      <td>793665</td>\n",
       "    </tr>\n",
       "    <tr>\n",
       "      <th>2</th>\n",
       "      <td>28977</td>\n",
       "      <td>Gintama°</td>\n",
       "      <td>Action, Comedy, Historical, Parody, Samurai, S...</td>\n",
       "      <td>TV</td>\n",
       "      <td>51</td>\n",
       "      <td>9.25</td>\n",
       "      <td>114262</td>\n",
       "    </tr>\n",
       "    <tr>\n",
       "      <th>3</th>\n",
       "      <td>9253</td>\n",
       "      <td>Steins;Gate</td>\n",
       "      <td>Sci-Fi, Thriller</td>\n",
       "      <td>TV</td>\n",
       "      <td>24</td>\n",
       "      <td>9.17</td>\n",
       "      <td>673572</td>\n",
       "    </tr>\n",
       "    <tr>\n",
       "      <th>4</th>\n",
       "      <td>9969</td>\n",
       "      <td>Gintama&amp;#039;</td>\n",
       "      <td>Action, Comedy, Historical, Parody, Samurai, S...</td>\n",
       "      <td>TV</td>\n",
       "      <td>51</td>\n",
       "      <td>9.16</td>\n",
       "      <td>151266</td>\n",
       "    </tr>\n",
       "    <tr>\n",
       "      <th>...</th>\n",
       "      <td>...</td>\n",
       "      <td>...</td>\n",
       "      <td>...</td>\n",
       "      <td>...</td>\n",
       "      <td>...</td>\n",
       "      <td>...</td>\n",
       "      <td>...</td>\n",
       "    </tr>\n",
       "    <tr>\n",
       "      <th>12289</th>\n",
       "      <td>9316</td>\n",
       "      <td>Toushindai My Lover: Minami tai Mecha-Minami</td>\n",
       "      <td>Hentai</td>\n",
       "      <td>OVA</td>\n",
       "      <td>1</td>\n",
       "      <td>4.15</td>\n",
       "      <td>211</td>\n",
       "    </tr>\n",
       "    <tr>\n",
       "      <th>12290</th>\n",
       "      <td>5543</td>\n",
       "      <td>Under World</td>\n",
       "      <td>Hentai</td>\n",
       "      <td>OVA</td>\n",
       "      <td>1</td>\n",
       "      <td>4.28</td>\n",
       "      <td>183</td>\n",
       "    </tr>\n",
       "    <tr>\n",
       "      <th>12291</th>\n",
       "      <td>5621</td>\n",
       "      <td>Violence Gekiga David no Hoshi</td>\n",
       "      <td>Hentai</td>\n",
       "      <td>OVA</td>\n",
       "      <td>4</td>\n",
       "      <td>4.88</td>\n",
       "      <td>219</td>\n",
       "    </tr>\n",
       "    <tr>\n",
       "      <th>12292</th>\n",
       "      <td>6133</td>\n",
       "      <td>Violence Gekiga Shin David no Hoshi: Inma Dens...</td>\n",
       "      <td>Hentai</td>\n",
       "      <td>OVA</td>\n",
       "      <td>1</td>\n",
       "      <td>4.98</td>\n",
       "      <td>175</td>\n",
       "    </tr>\n",
       "    <tr>\n",
       "      <th>12293</th>\n",
       "      <td>26081</td>\n",
       "      <td>Yasuji no Pornorama: Yacchimae!!</td>\n",
       "      <td>Hentai</td>\n",
       "      <td>Movie</td>\n",
       "      <td>1</td>\n",
       "      <td>5.46</td>\n",
       "      <td>142</td>\n",
       "    </tr>\n",
       "  </tbody>\n",
       "</table>\n",
       "<p>12294 rows × 7 columns</p>\n",
       "</div>"
      ],
      "text/plain": [
       "       anime_id                                               name  \\\n",
       "0         32281                                     Kimi no Na wa.   \n",
       "1          5114                   Fullmetal Alchemist: Brotherhood   \n",
       "2         28977                                           Gintama°   \n",
       "3          9253                                        Steins;Gate   \n",
       "4          9969                                      Gintama&#039;   \n",
       "...         ...                                                ...   \n",
       "12289      9316       Toushindai My Lover: Minami tai Mecha-Minami   \n",
       "12290      5543                                        Under World   \n",
       "12291      5621                     Violence Gekiga David no Hoshi   \n",
       "12292      6133  Violence Gekiga Shin David no Hoshi: Inma Dens...   \n",
       "12293     26081                   Yasuji no Pornorama: Yacchimae!!   \n",
       "\n",
       "                                                   genre   type episodes  \\\n",
       "0                   Drama, Romance, School, Supernatural  Movie        1   \n",
       "1      Action, Adventure, Drama, Fantasy, Magic, Mili...     TV       64   \n",
       "2      Action, Comedy, Historical, Parody, Samurai, S...     TV       51   \n",
       "3                                       Sci-Fi, Thriller     TV       24   \n",
       "4      Action, Comedy, Historical, Parody, Samurai, S...     TV       51   \n",
       "...                                                  ...    ...      ...   \n",
       "12289                                             Hentai    OVA        1   \n",
       "12290                                             Hentai    OVA        1   \n",
       "12291                                             Hentai    OVA        4   \n",
       "12292                                             Hentai    OVA        1   \n",
       "12293                                             Hentai  Movie        1   \n",
       "\n",
       "       rating  members  \n",
       "0        9.37   200630  \n",
       "1        9.26   793665  \n",
       "2        9.25   114262  \n",
       "3        9.17   673572  \n",
       "4        9.16   151266  \n",
       "...       ...      ...  \n",
       "12289    4.15      211  \n",
       "12290    4.28      183  \n",
       "12291    4.88      219  \n",
       "12292    4.98      175  \n",
       "12293    5.46      142  \n",
       "\n",
       "[12294 rows x 7 columns]"
      ]
     },
     "execution_count": 113,
     "metadata": {},
     "output_type": "execute_result"
    }
   ],
   "source": [
    "\n",
    "import pandas as pd\n",
    "\n",
    "data= pd.read_csv(\"C:\\\\Users\\\\NANDAKISHORE BOINI\\\\OneDrive\\\\Desktop\\\\anime.csv\")\n",
    "data\n"
   ]
  },
  {
   "cell_type": "code",
   "execution_count": 114,
   "metadata": {
    "colab": {
     "base_uri": "https://localhost:8080/"
    },
    "id": "fzCqVbAwb2xr",
    "outputId": "c7854a9e-a15e-4744-da3b-8a06dc511e15"
   },
   "outputs": [
    {
     "data": {
      "text/plain": [
       "(12294, 7)"
      ]
     },
     "execution_count": 114,
     "metadata": {},
     "output_type": "execute_result"
    }
   ],
   "source": [
    "data.shape\n"
   ]
  },
  {
   "cell_type": "code",
   "execution_count": 115,
   "metadata": {
    "id": "xRUt0PzrZvoL"
   },
   "outputs": [
    {
     "name": "stdout",
     "output_type": "stream",
     "text": [
      "<class 'pandas.core.frame.DataFrame'>\n",
      "RangeIndex: 12294 entries, 0 to 12293\n",
      "Data columns (total 7 columns):\n",
      " #   Column    Non-Null Count  Dtype  \n",
      "---  ------    --------------  -----  \n",
      " 0   anime_id  12294 non-null  int64  \n",
      " 1   name      12294 non-null  object \n",
      " 2   genre     12232 non-null  object \n",
      " 3   type      12269 non-null  object \n",
      " 4   episodes  12294 non-null  object \n",
      " 5   rating    12064 non-null  float64\n",
      " 6   members   12294 non-null  int64  \n",
      "dtypes: float64(1), int64(2), object(4)\n",
      "memory usage: 672.5+ KB\n"
     ]
    }
   ],
   "source": [
    "data.info()\n"
   ]
  },
  {
   "cell_type": "code",
   "execution_count": 116,
   "metadata": {
    "colab": {
     "base_uri": "https://localhost:8080/"
    },
    "id": "cHm9q-hfaKof",
    "outputId": "8eb21353-8fe7-44f4-b048-7a2b24eb2290"
   },
   "outputs": [
    {
     "name": "stdout",
     "output_type": "stream",
     "text": [
      "anime_id      0\n",
      "name          0\n",
      "genre        62\n",
      "type         25\n",
      "episodes      0\n",
      "rating      230\n",
      "members       0\n",
      "dtype: int64\n"
     ]
    }
   ],
   "source": [
    "# Check for missing values in the DataFrame\n",
    "print(data.isnull().sum())\n",
    "\n",
    "# Handle missing values (e.g., by dropping rows or filling with mean/median)\n",
    "# Example: Drop rows with any missing values\n",
    "data = data.dropna()\n",
    "\n"
   ]
  },
  {
   "cell_type": "code",
   "execution_count": 117,
   "metadata": {
    "colab": {
     "base_uri": "https://localhost:8080/",
     "height": 1000
    },
    "id": "iBUJAuhTdGTh",
    "outputId": "d6437a57-86d9-4a71-d481-facd46577fe1"
   },
   "outputs": [
    {
     "name": "stdout",
     "output_type": "stream",
     "text": [
      "           anime_id        rating       members\n",
      "count  12017.000000  12017.000000  1.201700e+04\n",
      "mean   13638.001165      6.478264  1.834888e+04\n",
      "std    11231.076675      1.023857  5.537250e+04\n",
      "min        1.000000      1.670000  1.200000e+01\n",
      "25%     3391.000000      5.890000  2.250000e+02\n",
      "50%     9959.000000      6.570000  1.552000e+03\n",
      "75%    23729.000000      7.180000  9.588000e+03\n",
      "max    34519.000000     10.000000  1.013917e+06\n",
      "<class 'pandas.core.frame.DataFrame'>\n",
      "Index: 12017 entries, 0 to 12293\n",
      "Data columns (total 7 columns):\n",
      " #   Column    Non-Null Count  Dtype  \n",
      "---  ------    --------------  -----  \n",
      " 0   anime_id  12017 non-null  int64  \n",
      " 1   name      12017 non-null  object \n",
      " 2   genre     12017 non-null  object \n",
      " 3   type      12017 non-null  object \n",
      " 4   episodes  12017 non-null  object \n",
      " 5   rating    12017 non-null  float64\n",
      " 6   members   12017 non-null  int64  \n",
      "dtypes: float64(1), int64(2), object(4)\n",
      "memory usage: 751.1+ KB\n",
      "None\n",
      "anime_id    0\n",
      "name        0\n",
      "genre       0\n",
      "type        0\n",
      "episodes    0\n",
      "rating      0\n",
      "members     0\n",
      "dtype: int64\n"
     ]
    }
   ],
   "source": [
    "\n",
    "import pandas as pd\n",
    "import matplotlib.pyplot as plt\n",
    "import seaborn as sns\n",
    "\n",
    "# Explore the dataset\n",
    "print(data.describe())  # Basic statistics for numerical columns\n",
    "print(data.info())  # Data types and non-null counts for each column\n",
    "\n",
    "# Check for missing values\n",
    "print(data.isnull().sum())\n",
    "\n",
    "\n"
   ]
  },
  {
   "cell_type": "code",
   "execution_count": 118,
   "metadata": {},
   "outputs": [
    {
     "name": "stdout",
     "output_type": "stream",
     "text": [
      "Unique values in name: ['Kimi no Na wa.' 'Fullmetal Alchemist: Brotherhood' 'Gintama°' ...\n",
      " 'Violence Gekiga David no Hoshi'\n",
      " 'Violence Gekiga Shin David no Hoshi: Inma Densetsu'\n",
      " 'Yasuji no Pornorama: Yacchimae!!']\n",
      "name\n",
      "Shi Wan Ge Leng Xiaohua                                                                            2\n",
      "Saru Kani Gassen                                                                                   2\n",
      "CCW: Crazy Clay Wrestling                                                                          1\n",
      "Crayon Angel                                                                                       1\n",
      "Koumon-teki Juuku Ketsujiru Juke                                                                   1\n",
      "                                                                                                  ..\n",
      "Bakusou Kyoudai Let&#039;s &amp; Go!! WGP Bousou Mini Yonku Daitsuiseki                            1\n",
      "Beet the Vandel Buster Excellion                                                                   1\n",
      "Black Jack ONA                                                                                     1\n",
      "Crayon Shin-chan Manatsu no Yoru ni Ora Sanjou! Arashi wo Yobu Den-O vs. Shin-O 60-bu Special!!    1\n",
      "Yasuji no Pornorama: Yacchimae!!                                                                   1\n",
      "Name: count, Length: 12015, dtype: int64\n",
      "Unique values in genre: ['Drama, Romance, School, Supernatural'\n",
      " 'Action, Adventure, Drama, Fantasy, Magic, Military, Shounen'\n",
      " 'Action, Comedy, Historical, Parody, Samurai, Sci-Fi, Shounen' ...\n",
      " 'Action, Comedy, Hentai, Romance, Supernatural' 'Hentai, Sports'\n",
      " 'Hentai, Slice of Life']\n",
      "genre\n",
      "Hentai                                                   816\n",
      "Comedy                                                   521\n",
      "Music                                                    297\n",
      "Kids                                                     197\n",
      "Comedy, Slice of Life                                    174\n",
      "                                                        ... \n",
      "Adventure, Comedy, Horror, Shounen, Supernatural           1\n",
      "Comedy, Harem, Romance, School, Seinen, Slice of Life      1\n",
      "Comedy, Ecchi, Sci-Fi, Shounen                             1\n",
      "Adventure, Shounen, Sports                                 1\n",
      "Hentai, Slice of Life                                      1\n",
      "Name: count, Length: 3229, dtype: int64\n",
      "Unique values in type: ['Movie' 'TV' 'OVA' 'Special' 'Music' 'ONA']\n",
      "type\n",
      "TV         3668\n",
      "OVA        3284\n",
      "Movie      2259\n",
      "Special    1670\n",
      "ONA         648\n",
      "Music       488\n",
      "Name: count, dtype: int64\n",
      "Unique values in episodes: ['1' '64' '51' '24' '10' '148' '110' '13' '201' '25' '22' '75' '4' '26'\n",
      " '12' '27' '43' '74' '37' '2' '11' '99' 'Unknown' '39' '101' '47' '50'\n",
      " '62' '33' '112' '23' '3' '94' '6' '8' '14' '7' '40' '15' '203' '77' '291'\n",
      " '120' '102' '96' '38' '79' '175' '103' '70' '153' '45' '5' '21' '63' '52'\n",
      " '28' '145' '36' '69' '60' '178' '114' '35' '61' '34' '109' '20' '9' '49'\n",
      " '366' '97' '48' '78' '358' '155' '104' '113' '54' '167' '161' '42' '142'\n",
      " '31' '373' '220' '46' '195' '17' '1787' '73' '147' '127' '16' '19' '98'\n",
      " '150' '76' '53' '124' '29' '115' '224' '44' '58' '93' '154' '92' '67'\n",
      " '172' '86' '30' '276' '59' '72' '330' '41' '105' '128' '137' '56' '55'\n",
      " '65' '243' '193' '18' '191' '180' '91' '192' '66' '182' '32' '164' '100'\n",
      " '296' '694' '95' '68' '117' '151' '130' '87' '170' '119' '84' '108' '156'\n",
      " '140' '331' '305' '300' '510' '200' '88' '1471' '526' '143' '726' '136'\n",
      " '1818' '237' '1428' '365' '163' '283' '71' '260' '199' '225' '312' '240'\n",
      " '1306' '1565' '773' '1274' '90' '475' '263' '83' '85' '1006' '80' '162'\n",
      " '132' '141' '125']\n",
      "episodes\n",
      "1      5571\n",
      "2      1075\n",
      "12      810\n",
      "13      571\n",
      "26      514\n",
      "       ... \n",
      "358       1\n",
      "366       1\n",
      "201       1\n",
      "172       1\n",
      "125       1\n",
      "Name: count, Length: 187, dtype: int64\n"
     ]
    }
   ],
   "source": [
    "# Explore categorical features\n",
    "for column in data.select_dtypes(include=['object']).columns:\n",
    "  print(f\"Unique values in {column}: {data[column].unique()}\")\n",
    "  print(data[column].value_counts())"
   ]
  },
  {
   "cell_type": "code",
   "execution_count": 119,
   "metadata": {},
   "outputs": [
    {
     "data": {
      "image/png": "[encoded data removed]",
      "text/plain": [
       "<Figure size 640x480 with 1 Axes>"
      ]
     },
     "metadata": {},
     "output_type": "display_data"
    },
    {
     "data": {
      "image/png": "[encoded data removed]",
      "text/plain": [
       "<Figure size 640x480 with 1 Axes>"
      ]
     },
     "metadata": {},
     "output_type": "display_data"
    },
    {
     "data": {
      "image/png": "[encoded data removed]",
      "text/plain": [
       "<Figure size 640x480 with 1 Axes>"
      ]
     },
     "metadata": {},
     "output_type": "display_data"
    }
   ],
   "source": [
    "# Visualize distributions of numerical features\n",
    "for column in data.select_dtypes(include=['number']).columns:\n",
    "  plt.figure()\n",
    "  sns.histplot(data[column])\n",
    "  plt.title(f\"Distribution of {column}\")\n",
    "  plt.show()\n"
   ]
  },
  {
   "cell_type": "code",
   "execution_count": 120,
   "metadata": {},
   "outputs": [
    {
     "data": {
      "image/png": "[encoded data removed]",
      "text/plain": [
       "<Figure size 500x500 with 6 Axes>"
      ]
     },
     "metadata": {},
     "output_type": "display_data"
    }
   ],
   "source": [
    "# Explore relationships between features\n",
    "sns.pairplot(data[['rating', 'members', 'episodes']])\n",
    "plt.show()"
   ]
  },
  {
   "cell_type": "code",
   "execution_count": 121,
   "metadata": {},
   "outputs": [
    {
     "name": "stdout",
     "output_type": "stream",
     "text": [
      "Column 'name' could not be converted to numeric.\n",
      "Column 'genre' could not be converted to numeric.\n",
      "Column 'type' could not be converted to numeric.\n",
      "Column 'episodes' could not be converted to numeric.\n"
     ]
    }
   ],
   "source": [
    "# Convert relevant columns to numeric type before calculating correlation\n",
    "# Identify columns with potential non-numeric values\n",
    "for column in data.columns:\n",
    "  if data[column].dtype == 'object':\n",
    "    try:\n",
    "      # Attempt to convert the column to numeric type\n",
    "      data[column] = pd.to_numeric(data[column])\n",
    "    except ValueError:\n",
    "      print(f\"Column '{column}' could not be converted to numeric.\")"
   ]
  },
  {
   "cell_type": "code",
   "execution_count": 122,
   "metadata": {},
   "outputs": [
    {
     "data": {
      "image/png": "[encoded data removed]",
      "text/plain": [
       "<Figure size 1000x800 with 2 Axes>"
      ]
     },
     "metadata": {},
     "output_type": "display_data"
    }
   ],
   "source": [
    "# Correlation matrix\n",
    "# Exclude non-numeric columns from correlation calculation\n",
    "correlation_matrix = data.select_dtypes(include=['number']).corr()\n",
    "plt.figure(figsize=(10, 8))\n",
    "sns.heatmap(correlation_matrix, annot=True, cmap='coolwarm')\n",
    "plt.title('Correlation Matrix')\n",
    "plt.show()\n"
   ]
  },
  {
   "cell_type": "code",
   "execution_count": 123,
   "metadata": {},
   "outputs": [
    {
     "data": {
      "image/png": "[encoded data removed]",
      "text/plain": [
       "<Figure size 640x480 with 1 Axes>"
      ]
     },
     "metadata": {},
     "output_type": "display_data"
    }
   ],
   "source": [
    "# You can explore specific relationships further\n",
    "# For example, to see the relationship between rating and members\n",
    "plt.figure()\n",
    "sns.scatterplot(x='rating', y='members', data=data)\n",
    "plt.title('Relationship between Rating and Members')\n",
    "plt.show()\n"
   ]
  },
  {
   "cell_type": "code",
   "execution_count": 124,
   "metadata": {},
   "outputs": [
    {
     "name": "stdout",
     "output_type": "stream",
     "text": [
      "       anime_id                                     name  \\\n",
      "10464     33662  Taka no Tsume 8: Yoshida-kun no X-Files   \n",
      "10400     30120              Spoon-hime no Swing Kitchen   \n",
      "9595      23005                         Mogura no Motoro   \n",
      "0         32281                           Kimi no Na wa.   \n",
      "9078      33607                             Kahei no Umi   \n",
      "1          5114         Fullmetal Alchemist: Brotherhood   \n",
      "10786     26313          Yakusoku: Africa Mizu to Midori   \n",
      "2         28977                                 Gintama°   \n",
      "3          9253                              Steins;Gate   \n",
      "4          9969                            Gintama&#039;   \n",
      "\n",
      "                                                   genre   type episodes  \\\n",
      "10464                                     Comedy, Parody  Movie        1   \n",
      "10400                                    Adventure, Kids     TV  Unknown   \n",
      "9595                                       Slice of Life  Movie        1   \n",
      "0                   Drama, Romance, School, Supernatural  Movie        1   \n",
      "9078                                          Historical  Movie        1   \n",
      "1      Action, Adventure, Drama, Fantasy, Magic, Mili...     TV       64   \n",
      "10786                                        Drama, Kids    OVA        1   \n",
      "2      Action, Comedy, Historical, Parody, Samurai, S...     TV       51   \n",
      "3                                       Sci-Fi, Thriller     TV       24   \n",
      "4      Action, Comedy, Historical, Parody, Samurai, S...     TV       51   \n",
      "\n",
      "       rating  members  \n",
      "10464   10.00       13  \n",
      "10400    9.60       47  \n",
      "9595     9.50       62  \n",
      "0        9.37   200630  \n",
      "9078     9.33       44  \n",
      "1        9.26   793665  \n",
      "10786    9.25       53  \n",
      "2        9.25   114262  \n",
      "3        9.17   673572  \n",
      "4        9.16   151266  \n",
      "     anime_id                              name  \\\n",
      "40       1535                        Death Note   \n",
      "86      16498                Shingeki no Kyojin   \n",
      "804     11757                  Sword Art Online   \n",
      "1        5114  Fullmetal Alchemist: Brotherhood   \n",
      "159      6547                      Angel Beats!   \n",
      "19       1575   Code Geass: Hangyaku no Lelouch   \n",
      "841        20                            Naruto   \n",
      "3        9253                       Steins;Gate   \n",
      "445     10620                  Mirai Nikki (TV)   \n",
      "131      4224                         Toradora!   \n",
      "\n",
      "                                                 genre type episodes  rating  \\\n",
      "40   Mystery, Police, Psychological, Supernatural, ...   TV       37    8.71   \n",
      "86        Action, Drama, Fantasy, Shounen, Super Power   TV       25    8.54   \n",
      "804          Action, Adventure, Fantasy, Game, Romance   TV       25    7.83   \n",
      "1    Action, Adventure, Drama, Fantasy, Magic, Mili...   TV       64    9.26   \n",
      "159        Action, Comedy, Drama, School, Supernatural   TV       13    8.39   \n",
      "19   Action, Mecha, Military, School, Sci-Fi, Super...   TV       25    8.83   \n",
      "841  Action, Comedy, Martial Arts, Shounen, Super P...   TV      220    7.81   \n",
      "3                                     Sci-Fi, Thriller   TV       24    9.17   \n",
      "445  Action, Mystery, Psychological, Shounen, Super...   TV       26    8.07   \n",
      "131             Comedy, Romance, School, Slice of Life   TV       25    8.45   \n",
      "\n",
      "     members  \n",
      "40   1013917  \n",
      "86    896229  \n",
      "804   893100  \n",
      "1     793665  \n",
      "159   717796  \n",
      "19    715151  \n",
      "841   683297  \n",
      "3     673572  \n",
      "445   657190  \n",
      "131   633817  \n"
     ]
    }
   ],
   "source": [
    "# Example: Analyze the top-rated anime\n",
    "top_rated_anime = data.sort_values('rating', ascending=False).head(10)\n",
    "print(top_rated_anime)\n",
    "\n",
    "# Example: Analyze the anime with the most members\n",
    "most_members_anime = data.sort_values('members', ascending=False).head(10)\n",
    "print(most_members_anime)"
   ]
  },
  {
   "cell_type": "code",
   "execution_count": 125,
   "metadata": {
    "colab": {
     "base_uri": "https://localhost:8080/"
    },
    "id": "TIV5hfKjaWly",
    "outputId": "571d91bb-abc9-4cdb-e8d8-ee25337067eb"
   },
   "outputs": [
    {
     "name": "stdout",
     "output_type": "stream",
     "text": [
      "Unique values for name: ['Kimi no Na wa.' 'Fullmetal Alchemist: Brotherhood' 'Gintama°' ...\n",
      " 'Violence Gekiga David no Hoshi'\n",
      " 'Violence Gekiga Shin David no Hoshi: Inma Densetsu'\n",
      " 'Yasuji no Pornorama: Yacchimae!!']\n",
      "Unique values for genre: ['Drama, Romance, School, Supernatural'\n",
      " 'Action, Adventure, Drama, Fantasy, Magic, Military, Shounen'\n",
      " 'Action, Comedy, Historical, Parody, Samurai, Sci-Fi, Shounen' ...\n",
      " 'Action, Comedy, Hentai, Romance, Supernatural' 'Hentai, Sports'\n",
      " 'Hentai, Slice of Life']\n",
      "Unique values for type: ['Movie' 'TV' 'OVA' 'Special' 'Music' 'ONA']\n",
      "Unique values for episodes: ['1' '64' '51' '24' '10' '148' '110' '13' '201' '25' '22' '75' '4' '26'\n",
      " '12' '27' '43' '74' '37' '2' '11' '99' 'Unknown' '39' '101' '47' '50'\n",
      " '62' '33' '112' '23' '3' '94' '6' '8' '14' '7' '40' '15' '203' '77' '291'\n",
      " '120' '102' '96' '38' '79' '175' '103' '70' '153' '45' '5' '21' '63' '52'\n",
      " '28' '145' '36' '69' '60' '178' '114' '35' '61' '34' '109' '20' '9' '49'\n",
      " '366' '97' '48' '78' '358' '155' '104' '113' '54' '167' '161' '42' '142'\n",
      " '31' '373' '220' '46' '195' '17' '1787' '73' '147' '127' '16' '19' '98'\n",
      " '150' '76' '53' '124' '29' '115' '224' '44' '58' '93' '154' '92' '67'\n",
      " '172' '86' '30' '276' '59' '72' '330' '41' '105' '128' '137' '56' '55'\n",
      " '65' '243' '193' '18' '191' '180' '91' '192' '66' '182' '32' '164' '100'\n",
      " '296' '694' '95' '68' '117' '151' '130' '87' '170' '119' '84' '108' '156'\n",
      " '140' '331' '305' '300' '510' '200' '88' '1471' '526' '143' '726' '136'\n",
      " '1818' '237' '1428' '365' '163' '283' '71' '260' '199' '225' '312' '240'\n",
      " '1306' '1565' '773' '1274' '90' '475' '263' '83' '85' '1006' '80' '162'\n",
      " '132' '141' '125']\n"
     ]
    }
   ],
   "source": [
    "# Check the unique values for categorical features\n",
    "for column in data.columns:\n",
    "  if data[column].dtype == 'object':\n",
    "    print(f\"Unique values for {column}: {data[column].unique()}\")\n"
   ]
  },
  {
   "cell_type": "code",
   "execution_count": 126,
   "metadata": {
    "colab": {
     "base_uri": "https://localhost:8080/"
    },
    "id": "niWh3zHqddRb",
    "outputId": "1ad27be8-0e11-49fe-bc41-5dbea024dfe9"
   },
   "outputs": [
    {
     "data": {
      "text/plain": [
       "['genre', 'type', 'rating', 'members']"
      ]
     },
     "execution_count": 126,
     "metadata": {},
     "output_type": "execute_result"
    }
   ],
   "source": [
    "# For example, we could use the following features for computing similarity:\n",
    "features_for_similarity = ['genre', 'type', 'rating', 'members']\n",
    "features_for_similarity\n"
   ]
  },
  {
   "cell_type": "code",
   "execution_count": 127,
   "metadata": {
    "colab": {
     "base_uri": "https://localhost:8080/"
    },
    "id": "mPhpmO1jeCHl",
    "outputId": "c7733f9e-d410-4f00-f299-a2a7eb6b2462"
   },
   "outputs": [
    {
     "name": "stdout",
     "output_type": "stream",
     "text": [
      "Index(['anime_id', 'name', 'genre', 'type', 'episodes', 'rating', 'members'], dtype='object')\n"
     ]
    }
   ],
   "source": [
    "import pandas as pd\n",
    "# Convert categorical features to numerical representations using one-hot encoding\n",
    "# Check the actual column names in the DataFrame\n",
    "print(data.columns)\n",
    "\n",
    "# Assuming 'source' is actually named 'Source'\n",
    "data = pd.get_dummies(data, columns=['type', 'genre'], dummy_na=True)\n"
   ]
  },
  {
   "cell_type": "code",
   "execution_count": null,
   "metadata": {
    "id": "RYvkyivvmw6p"
   },
   "outputs": [],
   "source": []
  },
  {
   "cell_type": "code",
   "execution_count": 129,
   "metadata": {
    "colab": {
     "base_uri": "https://localhost:8080/",
     "height": 423
    },
    "id": "aKpKymC8f-Ip",
    "outputId": "84127710-9551-4a36-e29b-e3e121946f44"
   },
   "outputs": [
    {
     "data": {
      "text/html": [
       "<div>\n",
       "<style scoped>\n",
       "    .dataframe tbody tr th:only-of-type {\n",
       "        vertical-align: middle;\n",
       "    }\n",
       "\n",
       "    .dataframe tbody tr th {\n",
       "        vertical-align: top;\n",
       "    }\n",
       "\n",
       "    .dataframe thead th {\n",
       "        text-align: right;\n",
       "    }\n",
       "</style>\n",
       "<table border=\"1\" class=\"dataframe\">\n",
       "  <thead>\n",
       "    <tr style=\"text-align: right;\">\n",
       "      <th></th>\n",
       "      <th>anime_id</th>\n",
       "      <th>name</th>\n",
       "      <th>genre</th>\n",
       "      <th>type</th>\n",
       "      <th>episodes</th>\n",
       "      <th>rating</th>\n",
       "      <th>members</th>\n",
       "    </tr>\n",
       "  </thead>\n",
       "  <tbody>\n",
       "    <tr>\n",
       "      <th>0</th>\n",
       "      <td>32281</td>\n",
       "      <td>Kimi no Na wa.</td>\n",
       "      <td>Drama, Romance, School, Supernatural</td>\n",
       "      <td>Movie</td>\n",
       "      <td>1</td>\n",
       "      <td>9.37</td>\n",
       "      <td>200630</td>\n",
       "    </tr>\n",
       "    <tr>\n",
       "      <th>1</th>\n",
       "      <td>5114</td>\n",
       "      <td>Fullmetal Alchemist: Brotherhood</td>\n",
       "      <td>Action, Adventure, Drama, Fantasy, Magic, Mili...</td>\n",
       "      <td>TV</td>\n",
       "      <td>64</td>\n",
       "      <td>9.26</td>\n",
       "      <td>793665</td>\n",
       "    </tr>\n",
       "    <tr>\n",
       "      <th>2</th>\n",
       "      <td>28977</td>\n",
       "      <td>Gintama°</td>\n",
       "      <td>Action, Comedy, Historical, Parody, Samurai, S...</td>\n",
       "      <td>TV</td>\n",
       "      <td>51</td>\n",
       "      <td>9.25</td>\n",
       "      <td>114262</td>\n",
       "    </tr>\n",
       "    <tr>\n",
       "      <th>3</th>\n",
       "      <td>9253</td>\n",
       "      <td>Steins;Gate</td>\n",
       "      <td>Sci-Fi, Thriller</td>\n",
       "      <td>TV</td>\n",
       "      <td>24</td>\n",
       "      <td>9.17</td>\n",
       "      <td>673572</td>\n",
       "    </tr>\n",
       "    <tr>\n",
       "      <th>4</th>\n",
       "      <td>9969</td>\n",
       "      <td>Gintama&amp;#039;</td>\n",
       "      <td>Action, Comedy, Historical, Parody, Samurai, S...</td>\n",
       "      <td>TV</td>\n",
       "      <td>51</td>\n",
       "      <td>9.16</td>\n",
       "      <td>151266</td>\n",
       "    </tr>\n",
       "    <tr>\n",
       "      <th>...</th>\n",
       "      <td>...</td>\n",
       "      <td>...</td>\n",
       "      <td>...</td>\n",
       "      <td>...</td>\n",
       "      <td>...</td>\n",
       "      <td>...</td>\n",
       "      <td>...</td>\n",
       "    </tr>\n",
       "    <tr>\n",
       "      <th>12289</th>\n",
       "      <td>9316</td>\n",
       "      <td>Toushindai My Lover: Minami tai Mecha-Minami</td>\n",
       "      <td>Hentai</td>\n",
       "      <td>OVA</td>\n",
       "      <td>1</td>\n",
       "      <td>4.15</td>\n",
       "      <td>211</td>\n",
       "    </tr>\n",
       "    <tr>\n",
       "      <th>12290</th>\n",
       "      <td>5543</td>\n",
       "      <td>Under World</td>\n",
       "      <td>Hentai</td>\n",
       "      <td>OVA</td>\n",
       "      <td>1</td>\n",
       "      <td>4.28</td>\n",
       "      <td>183</td>\n",
       "    </tr>\n",
       "    <tr>\n",
       "      <th>12291</th>\n",
       "      <td>5621</td>\n",
       "      <td>Violence Gekiga David no Hoshi</td>\n",
       "      <td>Hentai</td>\n",
       "      <td>OVA</td>\n",
       "      <td>4</td>\n",
       "      <td>4.88</td>\n",
       "      <td>219</td>\n",
       "    </tr>\n",
       "    <tr>\n",
       "      <th>12292</th>\n",
       "      <td>6133</td>\n",
       "      <td>Violence Gekiga Shin David no Hoshi: Inma Dens...</td>\n",
       "      <td>Hentai</td>\n",
       "      <td>OVA</td>\n",
       "      <td>1</td>\n",
       "      <td>4.98</td>\n",
       "      <td>175</td>\n",
       "    </tr>\n",
       "    <tr>\n",
       "      <th>12293</th>\n",
       "      <td>26081</td>\n",
       "      <td>Yasuji no Pornorama: Yacchimae!!</td>\n",
       "      <td>Hentai</td>\n",
       "      <td>Movie</td>\n",
       "      <td>1</td>\n",
       "      <td>5.46</td>\n",
       "      <td>142</td>\n",
       "    </tr>\n",
       "  </tbody>\n",
       "</table>\n",
       "<p>12294 rows × 7 columns</p>\n",
       "</div>"
      ],
      "text/plain": [
       "       anime_id                                               name  \\\n",
       "0         32281                                     Kimi no Na wa.   \n",
       "1          5114                   Fullmetal Alchemist: Brotherhood   \n",
       "2         28977                                           Gintama°   \n",
       "3          9253                                        Steins;Gate   \n",
       "4          9969                                      Gintama&#039;   \n",
       "...         ...                                                ...   \n",
       "12289      9316       Toushindai My Lover: Minami tai Mecha-Minami   \n",
       "12290      5543                                        Under World   \n",
       "12291      5621                     Violence Gekiga David no Hoshi   \n",
       "12292      6133  Violence Gekiga Shin David no Hoshi: Inma Dens...   \n",
       "12293     26081                   Yasuji no Pornorama: Yacchimae!!   \n",
       "\n",
       "                                                   genre   type episodes  \\\n",
       "0                   Drama, Romance, School, Supernatural  Movie        1   \n",
       "1      Action, Adventure, Drama, Fantasy, Magic, Mili...     TV       64   \n",
       "2      Action, Comedy, Historical, Parody, Samurai, S...     TV       51   \n",
       "3                                       Sci-Fi, Thriller     TV       24   \n",
       "4      Action, Comedy, Historical, Parody, Samurai, S...     TV       51   \n",
       "...                                                  ...    ...      ...   \n",
       "12289                                             Hentai    OVA        1   \n",
       "12290                                             Hentai    OVA        1   \n",
       "12291                                             Hentai    OVA        4   \n",
       "12292                                             Hentai    OVA        1   \n",
       "12293                                             Hentai  Movie        1   \n",
       "\n",
       "       rating  members  \n",
       "0        9.37   200630  \n",
       "1        9.26   793665  \n",
       "2        9.25   114262  \n",
       "3        9.17   673572  \n",
       "4        9.16   151266  \n",
       "...       ...      ...  \n",
       "12289    4.15      211  \n",
       "12290    4.28      183  \n",
       "12291    4.88      219  \n",
       "12292    4.98      175  \n",
       "12293    5.46      142  \n",
       "\n",
       "[12294 rows x 7 columns]"
      ]
     },
     "execution_count": 129,
     "metadata": {},
     "output_type": "execute_result"
    }
   ],
   "source": [
    "import pandas as pd\n",
    "from sklearn.metrics.pairwise import cosine_similarity\n",
    "\n",
    "data = pd.read_csv(\"C:\\\\Users\\\\NANDAKISHORE BOINI\\\\OneDrive\\\\Desktop\\\\anime.csv\")\n",
    "#data['genre'] = data['genre'].fillna('')\n",
    "data"
   ]
  },
  {
   "cell_type": "code",
   "execution_count": 130,
   "metadata": {
    "colab": {
     "base_uri": "https://localhost:8080/",
     "height": 423
    },
    "id": "ay2Jx3TchQ2d",
    "outputId": "acf1ff7a-542a-4a11-e2a6-b5be1ea07736"
   },
   "outputs": [
    {
     "data": {
      "text/html": [
       "<div>\n",
       "<style scoped>\n",
       "    .dataframe tbody tr th:only-of-type {\n",
       "        vertical-align: middle;\n",
       "    }\n",
       "\n",
       "    .dataframe tbody tr th {\n",
       "        vertical-align: top;\n",
       "    }\n",
       "\n",
       "    .dataframe thead th {\n",
       "        text-align: right;\n",
       "    }\n",
       "</style>\n",
       "<table border=\"1\" class=\"dataframe\">\n",
       "  <thead>\n",
       "    <tr style=\"text-align: right;\">\n",
       "      <th></th>\n",
       "      <th>anime_id</th>\n",
       "      <th>name</th>\n",
       "      <th>genre</th>\n",
       "      <th>type</th>\n",
       "      <th>episodes</th>\n",
       "      <th>rating</th>\n",
       "      <th>members</th>\n",
       "    </tr>\n",
       "  </thead>\n",
       "  <tbody>\n",
       "    <tr>\n",
       "      <th>0</th>\n",
       "      <td>32281</td>\n",
       "      <td>Kimi no Na wa.</td>\n",
       "      <td>Drama, Romance, School, Supernatural</td>\n",
       "      <td>Movie</td>\n",
       "      <td>1</td>\n",
       "      <td>9.37</td>\n",
       "      <td>200630</td>\n",
       "    </tr>\n",
       "    <tr>\n",
       "      <th>1</th>\n",
       "      <td>5114</td>\n",
       "      <td>Fullmetal Alchemist: Brotherhood</td>\n",
       "      <td>Action, Adventure, Drama, Fantasy, Magic, Mili...</td>\n",
       "      <td>TV</td>\n",
       "      <td>64</td>\n",
       "      <td>9.26</td>\n",
       "      <td>793665</td>\n",
       "    </tr>\n",
       "    <tr>\n",
       "      <th>2</th>\n",
       "      <td>28977</td>\n",
       "      <td>Gintama°</td>\n",
       "      <td>Action, Comedy, Historical, Parody, Samurai, S...</td>\n",
       "      <td>TV</td>\n",
       "      <td>51</td>\n",
       "      <td>9.25</td>\n",
       "      <td>114262</td>\n",
       "    </tr>\n",
       "    <tr>\n",
       "      <th>3</th>\n",
       "      <td>9253</td>\n",
       "      <td>Steins;Gate</td>\n",
       "      <td>Sci-Fi, Thriller</td>\n",
       "      <td>TV</td>\n",
       "      <td>24</td>\n",
       "      <td>9.17</td>\n",
       "      <td>673572</td>\n",
       "    </tr>\n",
       "    <tr>\n",
       "      <th>4</th>\n",
       "      <td>9969</td>\n",
       "      <td>Gintama&amp;#039;</td>\n",
       "      <td>Action, Comedy, Historical, Parody, Samurai, S...</td>\n",
       "      <td>TV</td>\n",
       "      <td>51</td>\n",
       "      <td>9.16</td>\n",
       "      <td>151266</td>\n",
       "    </tr>\n",
       "    <tr>\n",
       "      <th>...</th>\n",
       "      <td>...</td>\n",
       "      <td>...</td>\n",
       "      <td>...</td>\n",
       "      <td>...</td>\n",
       "      <td>...</td>\n",
       "      <td>...</td>\n",
       "      <td>...</td>\n",
       "    </tr>\n",
       "    <tr>\n",
       "      <th>12289</th>\n",
       "      <td>9316</td>\n",
       "      <td>Toushindai My Lover: Minami tai Mecha-Minami</td>\n",
       "      <td>Hentai</td>\n",
       "      <td>OVA</td>\n",
       "      <td>1</td>\n",
       "      <td>4.15</td>\n",
       "      <td>211</td>\n",
       "    </tr>\n",
       "    <tr>\n",
       "      <th>12290</th>\n",
       "      <td>5543</td>\n",
       "      <td>Under World</td>\n",
       "      <td>Hentai</td>\n",
       "      <td>OVA</td>\n",
       "      <td>1</td>\n",
       "      <td>4.28</td>\n",
       "      <td>183</td>\n",
       "    </tr>\n",
       "    <tr>\n",
       "      <th>12291</th>\n",
       "      <td>5621</td>\n",
       "      <td>Violence Gekiga David no Hoshi</td>\n",
       "      <td>Hentai</td>\n",
       "      <td>OVA</td>\n",
       "      <td>4</td>\n",
       "      <td>4.88</td>\n",
       "      <td>219</td>\n",
       "    </tr>\n",
       "    <tr>\n",
       "      <th>12292</th>\n",
       "      <td>6133</td>\n",
       "      <td>Violence Gekiga Shin David no Hoshi: Inma Dens...</td>\n",
       "      <td>Hentai</td>\n",
       "      <td>OVA</td>\n",
       "      <td>1</td>\n",
       "      <td>4.98</td>\n",
       "      <td>175</td>\n",
       "    </tr>\n",
       "    <tr>\n",
       "      <th>12293</th>\n",
       "      <td>26081</td>\n",
       "      <td>Yasuji no Pornorama: Yacchimae!!</td>\n",
       "      <td>Hentai</td>\n",
       "      <td>Movie</td>\n",
       "      <td>1</td>\n",
       "      <td>5.46</td>\n",
       "      <td>142</td>\n",
       "    </tr>\n",
       "  </tbody>\n",
       "</table>\n",
       "<p>12294 rows × 7 columns</p>\n",
       "</div>"
      ],
      "text/plain": [
       "       anime_id                                               name  \\\n",
       "0         32281                                     Kimi no Na wa.   \n",
       "1          5114                   Fullmetal Alchemist: Brotherhood   \n",
       "2         28977                                           Gintama°   \n",
       "3          9253                                        Steins;Gate   \n",
       "4          9969                                      Gintama&#039;   \n",
       "...         ...                                                ...   \n",
       "12289      9316       Toushindai My Lover: Minami tai Mecha-Minami   \n",
       "12290      5543                                        Under World   \n",
       "12291      5621                     Violence Gekiga David no Hoshi   \n",
       "12292      6133  Violence Gekiga Shin David no Hoshi: Inma Dens...   \n",
       "12293     26081                   Yasuji no Pornorama: Yacchimae!!   \n",
       "\n",
       "                                                   genre   type episodes  \\\n",
       "0                   Drama, Romance, School, Supernatural  Movie        1   \n",
       "1      Action, Adventure, Drama, Fantasy, Magic, Mili...     TV       64   \n",
       "2      Action, Comedy, Historical, Parody, Samurai, S...     TV       51   \n",
       "3                                       Sci-Fi, Thriller     TV       24   \n",
       "4      Action, Comedy, Historical, Parody, Samurai, S...     TV       51   \n",
       "...                                                  ...    ...      ...   \n",
       "12289                                             Hentai    OVA        1   \n",
       "12290                                             Hentai    OVA        1   \n",
       "12291                                             Hentai    OVA        4   \n",
       "12292                                             Hentai    OVA        1   \n",
       "12293                                             Hentai  Movie        1   \n",
       "\n",
       "       rating  members  \n",
       "0        9.37   200630  \n",
       "1        9.26   793665  \n",
       "2        9.25   114262  \n",
       "3        9.17   673572  \n",
       "4        9.16   151266  \n",
       "...       ...      ...  \n",
       "12289    4.15      211  \n",
       "12290    4.28      183  \n",
       "12291    4.88      219  \n",
       "12292    4.98      175  \n",
       "12293    5.46      142  \n",
       "\n",
       "[12294 rows x 7 columns]"
      ]
     },
     "execution_count": 130,
     "metadata": {},
     "output_type": "execute_result"
    }
   ],
   "source": [
    "\n",
    "from sklearn.metrics.pairwise import cosine_similarity\n",
    "\n",
    "import pandas as pd\n",
    "\n",
    "data['genre'] = data['genre'].fillna(pd.NA)\n",
    "data"
   ]
  },
  {
   "cell_type": "code",
   "execution_count": 131,
   "metadata": {
    "colab": {
     "base_uri": "https://localhost:8080/"
    },
    "id": "9wKJo9OqilZO",
    "outputId": "f7887b5b-8ab0-4f34-b63f-5f80bee4453c"
   },
   "outputs": [
    {
     "name": "stdout",
     "output_type": "stream",
     "text": [
      "5438    0.894427\n",
      "5031    0.866025\n",
      "676     0.866025\n",
      "4514    0.866025\n",
      "5119    0.866025\n",
      "Name: 60, dtype: float64\n"
     ]
    }
   ],
   "source": [
    "### building a recommendation system with cosine similarity\n",
    "\n",
    "# Create a binary genre matrix\n",
    "# Exclude NaN values from the genre column and handle strings\n",
    "genres = set(genre for sublist in data['genre'].dropna() if isinstance(sublist, str) for genre in sublist.split(', '))\n",
    "for genre in genres:\n",
    "    data[genre] = data['genre'].apply(lambda x: 1 if isinstance(x, str) and genre in x.split(', ') else 0)\n",
    "\n",
    "\n",
    "\n",
    " #Drop unnecessary columns\n",
    "data.drop(['anime_id', 'name', 'genre', 'type', 'episodes', 'rating', 'members'], axis=1, inplace=True)\n",
    "\n",
    "# Calculate cosine similarity between items (anime)\n",
    "item_similarity = cosine_similarity(data)\n",
    "\n",
    "# Convert the cosine similarity matrix into a DataFrame\n",
    "item_similarity_df = pd.DataFrame(item_similarity, index=data.index, columns=data.index)\n",
    "\n",
    "def get_similar_anime(anime_id, top_n=5):\n",
    "    # Get similarity scores for the given anime\n",
    "    similar_anime = item_similarity_df.loc[anime_id].sort_values(ascending=False)[1:top_n+1]\n",
    "    return similar_anime\n",
    "\n",
    "# Example usage:\n",
    "similar_anime = get_similar_anime(anime_id=60, top_n=5)\n",
    "print(similar_anime)"
   ]
  },
  {
   "cell_type": "code",
   "execution_count": 132,
   "metadata": {
    "colab": {
     "base_uri": "https://localhost:8080/"
    },
    "id": "6XM3NqeIlaxT",
    "outputId": "701b533e-cc4b-4d3b-e044-bdcd98764fee"
   },
   "outputs": [
    {
     "name": "stdout",
     "output_type": "stream",
     "text": [
      "Recommendations for anime ID 60:\n",
      "60      1.000000\n",
      "5438    0.894427\n",
      "5031    0.866025\n",
      "676     0.866025\n",
      "4514    0.866025\n",
      "Name: 60, dtype: float64\n"
     ]
    }
   ],
   "source": [
    "# Experiment with different threshold values for similarity scores to adjust the recommendation list size.\n",
    "\n",
    "def recommend_similar_anime(target_anime_id, similarity_threshold=0.5, top_n=10):\n",
    "\n",
    "  # Get similarity scores for the target anime\n",
    "  similar_anime = item_similarity_df.loc[target_anime_id].sort_values(ascending=False)\n",
    "\n",
    "  # Filter anime based on the similarity threshold\n",
    "  recommendations = similar_anime[similar_anime >= similarity_threshold]\n",
    "\n",
    "  # Return the top N recommendations\n",
    "  return recommendations.head(top_n)\n",
    "\n",
    "# Example usage:\n",
    "target_anime_id = 60  # Replace with the ID of the target anime\n",
    "recommendations = recommend_similar_anime(target_anime_id, similarity_threshold=0.7, top_n=5)\n",
    "print(f\"Recommendations for anime ID {target_anime_id}:\")\n",
    "print(recommendations)\n"
   ]
  },
  {
   "cell_type": "code",
   "execution_count": 133,
   "metadata": {
    "colab": {
     "base_uri": "https://localhost:8080/"
    },
    "id": "7aFPyUeemAMK",
    "outputId": "ad5121b9-0852-4586-b240-39970c884606"
   },
   "outputs": [
    {
     "name": "stdout",
     "output_type": "stream",
     "text": [
      "Training data shape: (9835, 43)\n",
      "Testing data shape: (2459, 43)\n"
     ]
    }
   ],
   "source": [
    "\n",
    "from sklearn.model_selection import train_test_split\n",
    "\n",
    "# Assuming 'data' is your DataFrame with features and potentially a target variable (if applicable)\n",
    "# Split the dataset into training and testing sets\n",
    "train_data, test_data = train_test_split(data, test_size=0.2, random_state=42)\n",
    "\n",
    "# Print the shapes of the training and testing sets\n",
    "print(\"Training data shape:\", train_data.shape)\n",
    "print(\"Testing data shape:\", test_data.shape)\n"
   ]
  },
  {
   "cell_type": "code",
   "execution_count": 134,
   "metadata": {
    "colab": {
     "base_uri": "https://localhost:8080/"
    },
    "id": "XCBqr_6XmHDs",
    "outputId": "0e8f1a62-52e5-4440-8c33-1c31c7725f85"
   },
   "outputs": [
    {
     "name": "stdout",
     "output_type": "stream",
     "text": [
      "Evaluation Results:\n",
      "Precision: 0.0000\n",
      "Recall: 0.0000\n",
      "F1-Score: 0.0000\n"
     ]
    }
   ],
   "source": [
    "\n",
    "from sklearn.metrics import precision_score, recall_score, f1_score\n",
    "\n",
    "def evaluate_recommendations(recommendations, actual_positives):\n",
    "\n",
    "  # Convert lists to sets for efficient comparison\n",
    "  recommendations_set = set(recommendations)\n",
    "  actual_positives_set = set(actual_positives)\n",
    "\n",
    "  # Calculate true positives (TP), false positives (FP), and false negatives (FN)\n",
    "  true_positives = len(recommendations_set.intersection(actual_positives_set))\n",
    "  false_positives = len(recommendations_set) - true_positives\n",
    "  false_negatives = len(actual_positives_set) - true_positives\n",
    "\n",
    "  # Calculate precision, recall, and F1-score\n",
    "  if true_positives + false_positives > 0:\n",
    "    precision = true_positives / (true_positives + false_positives)\n",
    "  else:\n",
    "    precision = 0.0\n",
    "  if true_positives + false_negatives > 0:\n",
    "    recall = true_positives / (true_positives + false_negatives)\n",
    "  else:\n",
    "    recall = 0.0\n",
    "  if precision + recall > 0:\n",
    "    f1 = 2 * (precision * recall) / (precision + recall)\n",
    "  else:\n",
    "    f1 = 0.0\n",
    "\n",
    "  return {'precision': precision, 'recall': recall, 'f1_score': f1}\n",
    "\n",
    "\n",
    "# Example Usage:\n",
    "\n",
    "# Assuming you have a list of user interactions (e.g., watched anime) for each user\n",
    "# and you want to evaluate the recommendation system for a particular user:\n",
    "\n",
    "user_id = 1  # Replace with the actual user ID\n",
    "target_anime_id = 60 # Replace with the target anime ID\n",
    "\n",
    "# Get recommendations for the user\n",
    "recommendations = recommend_similar_anime(target_anime_id, similarity_threshold=0.7, top_n=5).index.tolist()\n",
    "\n",
    "# Get the anime that the user actually interacted with (replace with actual user data)\n",
    "actual_positives = [61, 62, 63, 64] # Example actual positives for the user\n",
    "\n",
    "# Evaluate the recommendations\n",
    "evaluation_results = evaluate_recommendations(recommendations, actual_positives)\n",
    "\n",
    "print(\"Evaluation Results:\")\n",
    "print(f\"Precision: {evaluation_results['precision']:.4f}\")\n",
    "print(f\"Recall: {evaluation_results['recall']:.4f}\")\n",
    "print(f\"F1-Score: {evaluation_results['f1_score']:.4f}\")\n",
    "\n"
   ]
  },
  {
   "cell_type": "code",
   "execution_count": 135,
   "metadata": {
    "colab": {
     "base_uri": "https://localhost:8080/",
     "height": 489
    },
    "id": "yTDZSRKKmQG7",
    "outputId": "23280777-78de-49e8-9b78-0bc0375496f7"
   },
   "outputs": [
    {
     "data": {
      "image/png": "[encoded data removed]",
      "text/plain": [
       "<Figure size 640x480 with 1 Axes>"
      ]
     },
     "metadata": {},
     "output_type": "display_data"
    }
   ],
   "source": [
    "\n",
    "import matplotlib.pyplot as plt\n",
    "\n",
    "\n",
    "# Example code for exploring the distribution of similarity scores:\n",
    "plt.figure()\n",
    "plt.hist(item_similarity_df.values.flatten(), bins=50)\n",
    "plt.xlabel('Cosine Similarity Score')\n",
    "plt.ylabel('Frequency')\n",
    "plt.title('Distribution of Cosine Similarity Scores')\n",
    "plt.show()\n",
    "\n",
    "\n",
    "\n"
   ]
  },
  {
   "cell_type": "code",
   "execution_count": 136,
   "metadata": {},
   "outputs": [
    {
     "name": "stdout",
     "output_type": "stream",
     "text": [
      "Coverage of the recommendation system: 0.5999\n"
     ]
    }
   ],
   "source": [
    "\n",
    "# Example code for calculating the coverage of the recommendation system:\n",
    "recommended_anime = set()\n",
    "for i in range(len(item_similarity_df)):\n",
    "  recommendations = recommend_similar_anime(i, similarity_threshold=0.7, top_n=5).index.tolist()\n",
    "  recommended_anime.update(recommendations)\n",
    "\n",
    "coverage = len(recommended_anime) / len(data)\n",
    "print(f\"Coverage of the recommendation system: {coverage:.4f}\")\n"
   ]
  },
  {
   "cell_type": "code",
   "execution_count": 137,
   "metadata": {
    "id": "yrsYIpc4mc1R"
   },
   "outputs": [],
   "source": [
    "\n",
    "# 1. Can you explain the difference between user-based and item-based collaborative filtering?\n",
    "# 2. What is collaborative filtering, and how does it work?\n",
    "\n",
    "\n",
    "# 1. Can you explain the difference between user-based and item-based collaborative filtering?\n",
    "\n",
    "# Answer:\n",
    "\n",
    "# Both user-based and item-based collaborative filtering are techniques used in recommendation systems to predict user preferences based on the behavior of similar users or items. However, they differ in their approach:\n",
    "\n",
    "# User-based collaborative filtering:\n",
    "\n",
    "# - Identifies users with similar preferences based on their past interactions (e.g., ratings, purchases).\n",
    "# - Recommends items that similar users have liked or rated highly.\n",
    "# - Relies on finding users with similar taste profiles.\n",
    "\n",
    "# Item-based collaborative filtering:\n",
    "\n",
    "# - Identifies items with similar characteristics or user interactions (e.g., users who liked item A also liked item B).\n",
    "# - Recommends items that are similar to those the user has liked or interacted with in the past.\n",
    "# - Relies on finding items that are frequently consumed together or rated similarly by users.\n",
    "\n",
    "# Key Differences:\n",
    "\n",
    "# - User-based: Focuses on finding users with similar tastes.\n",
    "# - Item-based: Focuses on finding items that are similar to those a user has already liked.\n",
    "\n",
    "# Advantages of item-based:\n",
    "# - More stable than user-based as user preferences can change frequently.\n",
    "# - Easier to scale as item similarity doesn't need to be recalculated for each user.\n",
    "\n",
    "# 2. What is collaborative filtering, and how does it work?\n",
    "\n",
    "# Answer:\n",
    "\n",
    "# Collaborative filtering is a technique used in recommendation systems to predict a user's preferences for items based on the preferences of other users who have similar tastes. It works by analyzing patterns of user behavior and interactions with items to identify similar users or items.\n",
    "\n",
    "# How it Works:\n",
    "\n",
    "# 1. Data Collection:\n",
    "# - Collect data on user interactions with items, such as ratings, purchases, or views.\n",
    "\n",
    "# 2. Similarity Calculation:\n",
    "# - Calculate the similarity between users or items based on their interaction patterns.\n",
    "# - Common similarity metrics include cosine similarity, Pearson correlation, or Jaccard similarity.\n",
    "\n",
    "# 3. Prediction:\n",
    "# - Based on the similarity scores, predict the user's preference for an item that they haven't interacted with before.\n",
    "# - For example, if a user is similar to other users who have rated a specific item highly, the system predicts that the user would also like the item.\n",
    "\n",
    "# 4. Recommendation:\n",
    "# - Recommend items to users based on the predicted preferences.\n",
    "# - The system might recommend items with high predicted ratings or items that similar users have enjoyed.\n",
    "\n",
    "# Types of Collaborative Filtering:\n",
    "\n",
    "# - User-based: Recommends items that similar users have liked.\n",
    "# - Item-based: Recommends items that are similar to those a user has already liked.\n",
    "\n",
    "# Advantages of Collaborative Filtering:\n",
    "\n",
    "# - Doesn't require explicit content information about items or users.\n",
    "# - Can capture complex relationships between users and items.\n",
    "# - Can adapt to evolving user preferences.\n",
    "\n",
    "# Disadvantages of Collaborative Filtering:\n",
    "\n",
    "# - Cold-start problem: Difficulty recommending to new users or items with limited data.\n",
    "# - Sparsity problem: Can be challenging with limited user-item interaction data.\n",
    "# - Scalability issues: Can be computationally expensive with large datasets.\n"
   ]
  }
 ],
 "metadata": {
  "colab": {
   "provenance": []
  },
  "kernelspec": {
   "display_name": "Python 3 (ipykernel)",
   "language": "python",
   "name": "python3"
  },
  "language_info": {
   "codemirror_mode": {
    "name": "ipython",
    "version": 3
   },
   "file_extension": ".py",
   "mimetype": "text/x-python",
   "name": "python",
   "nbconvert_exporter": "python",
   "pygments_lexer": "ipython3",
   "version": "3.12.4"
  }
 },
 "nbformat": 4,
 "nbformat_minor": 4
}
